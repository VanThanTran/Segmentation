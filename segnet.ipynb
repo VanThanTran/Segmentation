{
  "cells": [
    {
      "cell_type": "code",
      "source": [
        "from google.colab import drive\n",
        "drive.mount('/content/gdrive')"
      ],
      "metadata": {
        "colab": {
          "base_uri": "https://localhost:8080/"
        },
        "id": "8Xu26n7N7G-v",
        "outputId": "6eba9b14-fcc0-44bc-cb0a-b1e5e201a742"
      },
      "execution_count": 2,
      "outputs": [
        {
          "output_type": "stream",
          "name": "stdout",
          "text": [
            "Drive already mounted at /content/gdrive; to attempt to forcibly remount, call drive.mount(\"/content/gdrive\", force_remount=True).\n"
          ]
        }
      ]
    },
    {
      "cell_type": "code",
      "source": [
        "%cd '/content/gdrive/MyDrive/segnet'\n",
        "! ls"
      ],
      "metadata": {
        "colab": {
          "base_uri": "https://localhost:8080/"
        },
        "id": "XPFNYVdP7Gx3",
        "outputId": "b168aace-dc89-42f6-ae57-124f42bb9e02"
      },
      "execution_count": 3,
      "outputs": [
        {
          "output_type": "stream",
          "name": "stdout",
          "text": [
            "/content/gdrive/MyDrive/segnet\n",
            "data  segnet.ipynb\n"
          ]
        }
      ]
    },
    {
      "metadata": {
        "trusted": false,
        "collapsed": true,
        "_uuid": "e05f437429ec8eeac2c8afd8360d8e92873059f5",
        "id": "G7ggrZCV682t"
      },
      "cell_type": "code",
      "source": [
        "import numpy as np # linear algebra\n",
        "import pandas as pd # data processing, CSV file I/O (e.g. pd.read_csv)\n",
        "import random\n",
        "from skimage.io import imread,imshow\n",
        "from skimage.transform import resize\n",
        "import os\n",
        "from sklearn.model_selection import train_test_split\n",
        "import matplotlib.pyplot as plt\n",
        "%matplotlib inline\n",
        "#import Augmentor\n",
        "import cv2"
      ],
      "execution_count": 4,
      "outputs": []
    },
    {
      "metadata": {
        "trusted": false,
        "collapsed": true,
        "_uuid": "7b7e110dde52f1ac5fad35d7ad6755313e751375",
        "id": "wUgKrCzu682v"
      },
      "cell_type": "code",
      "source": [
        "from keras.models import Model,Sequential\n",
        "from keras.layers.core import Activation, Reshape, Permute\n",
        "from keras.layers.convolutional import Convolution2D, MaxPooling2D, UpSampling2D\n",
        "from keras.layers import BatchNormalization\n",
        "from keras.layers import Input, merge, Conv2D,Concatenate\n",
        "from tensorflow.keras.optimizers import Adam, SGD, RMSprop\n",
        "from keras.callbacks import ModelCheckpoint, LearningRateScheduler, EarlyStopping\n",
        "from keras.callbacks import ReduceLROnPlateau, TensorBoard, Callback\n",
        "from keras.preprocessing.image import array_to_img, img_to_array, load_img, ImageDataGenerator\n",
        "from keras.losses import binary_crossentropy\n",
        "from keras import backend as K"
      ],
      "execution_count": 5,
      "outputs": []
    },
    {
      "metadata": {
        "trusted": false,
        "collapsed": true,
        "_uuid": "9f6908194f90a6da8c497461e337d5d5026e29d0",
        "id": "eSwI8sZv682w"
      },
      "cell_type": "code",
      "source": [
        "IMG_ROW = IMG_COL=64\n",
        "IMG_CHANNEL = 3\n",
        "TRAIN_IMG_DIR = '/content/gdrive/MyDrive/segnet/data/image/'\n",
        "TRAIN_MASK_DIR = '/content/gdrive/MyDrive/segnet/data/lable/'"
      ],
      "execution_count": 6,
      "outputs": []
    },
    {
      "metadata": {
        "trusted": false,
        "collapsed": true,
        "_uuid": "9d195a4a5a64fc6f7716de4349a8eaece90d5698",
        "id": "L29ajJZd682w"
      },
      "cell_type": "code",
      "source": [
        "def get_img_mask_array(imgpath,maskpath):\n",
        "    img=imread(imgpath)[:,:,:IMG_CHANNEL]\n",
        "    img=resize(img,(IMG_ROW,IMG_COL),mode='constant',\n",
        "               preserve_range=True)\n",
        "    mask=np.zeros((IMG_ROW,IMG_COL,1),dtype=np.bool)\n",
        "    mask_=imread(maskpath)\n",
        "    mask_=np.expand_dims(resize(mask_,(IMG_ROW,IMG_COL),\n",
        "                                mode='constant',preserve_range=True),\n",
        "                         axis=-1)\n",
        "    mask=np.maximum(mask,mask_)\n",
        "    mask1=[]\n",
        "    for i in range(len(mask)):\n",
        "        arr1=[]\n",
        "        for j in range(len(mask[i])):\n",
        "            if(mask[i][j]==0.):\n",
        "                arr1.append(1)\n",
        "                arr1.append(0)\n",
        "            else:\n",
        "                arr1.append(0)\n",
        "                arr1.append(1)\n",
        "        mask1.append(np.asarray(arr1))\n",
        "    mask1=np.asarray(mask1)\n",
        "    mask=mask1.reshape((IMG_ROW*IMG_COL,2))\n",
        "    return np.asarray(img),np.asarray(mask)"
      ],
      "execution_count": 7,
      "outputs": []
    },
    {
      "metadata": {
        "trusted": false,
        "collapsed": true,
        "_uuid": "04172861b76680e31aab4180170c0e306ba2f875",
        "colab": {
          "base_uri": "https://localhost:8080/"
        },
        "id": "K-Xlm3w9682x",
        "outputId": "9b58af1c-5f4b-4bec-f2d2-7be89aff65e9"
      },
      "cell_type": "code",
      "source": [
        "imgarray=[]\n",
        "maskarray=[]\n",
        "for path in os.listdir(TRAIN_IMG_DIR):\n",
        "    #print(i)\n",
        "    if(os.path.isfile(TRAIN_IMG_DIR + path)):\n",
        "        img,mask=get_img_mask_array(TRAIN_IMG_DIR + path,TRAIN_MASK_DIR + path)\n",
        "        imgarray.append(img)\n",
        "        maskarray.append(mask)\n",
        "print(np.asarray(imgarray).shape)\n",
        "print(np.asarray(maskarray).shape)"
      ],
      "execution_count": 8,
      "outputs": [
        {
          "output_type": "stream",
          "name": "stdout",
          "text": [
            "(525, 64, 64, 3)\n",
            "(525, 4096, 2)\n"
          ]
        }
      ]
    },
    {
      "metadata": {
        "trusted": false,
        "collapsed": true,
        "_uuid": "799accdf3c7313b65368992581b98719a11df2cd",
        "id": "6fXBJa9R682y"
      },
      "cell_type": "code",
      "source": [
        "def build_model(img_w, img_h, filters):\n",
        "    n_labels = 2\n",
        "\n",
        "    kernel = 3\n",
        "\n",
        "    encoding_layers = [\n",
        "        Conv2D(64, (kernel, kernel), input_shape=(img_h, img_w, 3), padding='same'),\n",
        "        BatchNormalization(),\n",
        "        Activation('relu'),\n",
        "        Convolution2D(64, (kernel, kernel), padding='same'),\n",
        "        BatchNormalization(),\n",
        "        Activation('relu'),\n",
        "        MaxPooling2D(),\n",
        "\n",
        "        Convolution2D(128, (kernel, kernel), padding='same'),\n",
        "        BatchNormalization(),\n",
        "        Activation('relu'),\n",
        "        Convolution2D(128, (kernel, kernel), padding='same'),\n",
        "        BatchNormalization(),\n",
        "        Activation('relu'),\n",
        "        MaxPooling2D(),\n",
        "\n",
        "        Convolution2D(256, (kernel, kernel), padding='same'),\n",
        "        BatchNormalization(),\n",
        "        Activation('relu'),\n",
        "        Convolution2D(256, (kernel, kernel), padding='same'),\n",
        "        BatchNormalization(),\n",
        "        Activation('relu'),\n",
        "        Convolution2D(256, (kernel, kernel), padding='same'),\n",
        "        BatchNormalization(),\n",
        "        Activation('relu'),\n",
        "        MaxPooling2D(),\n",
        "\n",
        "        Convolution2D(512, (kernel, kernel), padding='same'),\n",
        "        BatchNormalization(),\n",
        "        Activation('relu'),\n",
        "        Convolution2D(512, (kernel, kernel), padding='same'),\n",
        "        BatchNormalization(),\n",
        "        Activation('relu'),\n",
        "        Convolution2D(512, (kernel, kernel), padding='same'),\n",
        "        BatchNormalization(),\n",
        "        Activation('relu'),\n",
        "        MaxPooling2D(),\n",
        "\n",
        "        Convolution2D(512, (kernel, kernel), padding='same'),\n",
        "        BatchNormalization(),\n",
        "        Activation('relu'),\n",
        "        Convolution2D(512, (kernel, kernel), padding='same'),\n",
        "        BatchNormalization(),\n",
        "        Activation('relu'),\n",
        "        Convolution2D(512, (kernel, kernel), padding='same'),\n",
        "        BatchNormalization(),\n",
        "        Activation('relu'),\n",
        "        MaxPooling2D(),\n",
        "    ]\n",
        "\n",
        "    autoencoder =Sequential()\n",
        "    autoencoder.encoding_layers = encoding_layers\n",
        "\n",
        "    for l in autoencoder.encoding_layers:\n",
        "        autoencoder.add(l)\n",
        "\n",
        "    decoding_layers = [\n",
        "        UpSampling2D(),\n",
        "        Convolution2D(512, (kernel, kernel), padding='same'),\n",
        "        BatchNormalization(),\n",
        "        Activation('relu'),\n",
        "        Convolution2D(512, (kernel, kernel), padding='same'),\n",
        "        BatchNormalization(),\n",
        "        Activation('relu'),\n",
        "        Convolution2D(512, (kernel, kernel), padding='same'),\n",
        "        BatchNormalization(),\n",
        "        Activation('relu'),\n",
        "\n",
        "        UpSampling2D(),\n",
        "        Convolution2D(512, (kernel, kernel), padding='same'),\n",
        "        BatchNormalization(),\n",
        "        Activation('relu'),\n",
        "        Convolution2D(512, (kernel, kernel), padding='same'),\n",
        "        BatchNormalization(),\n",
        "        Activation('relu'),\n",
        "        Convolution2D(256, (kernel, kernel), padding='same'),\n",
        "        BatchNormalization(),\n",
        "        Activation('relu'),\n",
        "\n",
        "        UpSampling2D(),\n",
        "        Convolution2D(256, (kernel, kernel), padding='same'),\n",
        "        BatchNormalization(),\n",
        "        Activation('relu'),\n",
        "        Convolution2D(256, (kernel, kernel), padding='same'),\n",
        "        BatchNormalization(),\n",
        "        Activation('relu'),\n",
        "        Convolution2D(128, (kernel, kernel), padding='same'),\n",
        "        BatchNormalization(),\n",
        "        Activation('relu'),\n",
        "\n",
        "        UpSampling2D(),\n",
        "        Convolution2D(128, (kernel, kernel), padding='same'),\n",
        "        BatchNormalization(),\n",
        "        Activation('relu'),\n",
        "        Convolution2D(64, (kernel, kernel), padding='same'),\n",
        "        BatchNormalization(),\n",
        "        Activation('relu'),\n",
        "\n",
        "        UpSampling2D(),\n",
        "        Convolution2D(64, (kernel, kernel), padding='same'),\n",
        "        BatchNormalization(),\n",
        "        Activation('relu'),\n",
        "        Convolution2D(n_labels, (1, 1), padding='valid', activation=\"sigmoid\"),\n",
        "        BatchNormalization(),\n",
        "    ]\n",
        "    autoencoder.decoding_layers = decoding_layers\n",
        "    for l in autoencoder.decoding_layers:\n",
        "        autoencoder.add(l)\n",
        "\n",
        "    autoencoder.add(Reshape((n_labels, img_h * img_w)))\n",
        "    autoencoder.add(Permute((2, 1)))\n",
        "    autoencoder.add(Activation('softmax'))\n",
        "\n",
        "    #with open('model_5l.json', 'w') as outfile:\n",
        "    #    outfile.write(json.dumps(json.loads(autoencoder.to_json()), indent=2))\n",
        "    autoencoder.summary()\n",
        "    return autoencoder"
      ],
      "execution_count": 9,
      "outputs": []
    },
    {
      "metadata": {
        "trusted": false,
        "collapsed": true,
        "_uuid": "cd18d10119e94a089286bf4957b122b431fac0af",
        "colab": {
          "base_uri": "https://localhost:8080/"
        },
        "id": "dGc0r3f66822",
        "outputId": "87de3c46-d044-4e5b-84e7-0daa5216863f"
      },
      "cell_type": "code",
      "source": [
        "model = build_model(IMG_ROW,IMG_COL,10)"
      ],
      "execution_count": 11,
      "outputs": [
        {
          "output_type": "stream",
          "name": "stdout",
          "text": [
            "Model: \"sequential\"\n",
            "_________________________________________________________________\n",
            " Layer (type)                Output Shape              Param #   \n",
            "=================================================================\n",
            " conv2d (Conv2D)             (None, 64, 64, 64)        1792      \n",
            "                                                                 \n",
            " batch_normalization (BatchN  (None, 64, 64, 64)       256       \n",
            " ormalization)                                                   \n",
            "                                                                 \n",
            " activation (Activation)     (None, 64, 64, 64)        0         \n",
            "                                                                 \n",
            " conv2d_1 (Conv2D)           (None, 64, 64, 64)        36928     \n",
            "                                                                 \n",
            " batch_normalization_1 (Batc  (None, 64, 64, 64)       256       \n",
            " hNormalization)                                                 \n",
            "                                                                 \n",
            " activation_1 (Activation)   (None, 64, 64, 64)        0         \n",
            "                                                                 \n",
            " max_pooling2d (MaxPooling2D  (None, 32, 32, 64)       0         \n",
            " )                                                               \n",
            "                                                                 \n",
            " conv2d_2 (Conv2D)           (None, 32, 32, 128)       73856     \n",
            "                                                                 \n",
            " batch_normalization_2 (Batc  (None, 32, 32, 128)      512       \n",
            " hNormalization)                                                 \n",
            "                                                                 \n",
            " activation_2 (Activation)   (None, 32, 32, 128)       0         \n",
            "                                                                 \n",
            " conv2d_3 (Conv2D)           (None, 32, 32, 128)       147584    \n",
            "                                                                 \n",
            " batch_normalization_3 (Batc  (None, 32, 32, 128)      512       \n",
            " hNormalization)                                                 \n",
            "                                                                 \n",
            " activation_3 (Activation)   (None, 32, 32, 128)       0         \n",
            "                                                                 \n",
            " max_pooling2d_1 (MaxPooling  (None, 16, 16, 128)      0         \n",
            " 2D)                                                             \n",
            "                                                                 \n",
            " conv2d_4 (Conv2D)           (None, 16, 16, 256)       295168    \n",
            "                                                                 \n",
            " batch_normalization_4 (Batc  (None, 16, 16, 256)      1024      \n",
            " hNormalization)                                                 \n",
            "                                                                 \n",
            " activation_4 (Activation)   (None, 16, 16, 256)       0         \n",
            "                                                                 \n",
            " conv2d_5 (Conv2D)           (None, 16, 16, 256)       590080    \n",
            "                                                                 \n",
            " batch_normalization_5 (Batc  (None, 16, 16, 256)      1024      \n",
            " hNormalization)                                                 \n",
            "                                                                 \n",
            " activation_5 (Activation)   (None, 16, 16, 256)       0         \n",
            "                                                                 \n",
            " conv2d_6 (Conv2D)           (None, 16, 16, 256)       590080    \n",
            "                                                                 \n",
            " batch_normalization_6 (Batc  (None, 16, 16, 256)      1024      \n",
            " hNormalization)                                                 \n",
            "                                                                 \n",
            " activation_6 (Activation)   (None, 16, 16, 256)       0         \n",
            "                                                                 \n",
            " max_pooling2d_2 (MaxPooling  (None, 8, 8, 256)        0         \n",
            " 2D)                                                             \n",
            "                                                                 \n",
            " conv2d_7 (Conv2D)           (None, 8, 8, 512)         1180160   \n",
            "                                                                 \n",
            " batch_normalization_7 (Batc  (None, 8, 8, 512)        2048      \n",
            " hNormalization)                                                 \n",
            "                                                                 \n",
            " activation_7 (Activation)   (None, 8, 8, 512)         0         \n",
            "                                                                 \n",
            " conv2d_8 (Conv2D)           (None, 8, 8, 512)         2359808   \n",
            "                                                                 \n",
            " batch_normalization_8 (Batc  (None, 8, 8, 512)        2048      \n",
            " hNormalization)                                                 \n",
            "                                                                 \n",
            " activation_8 (Activation)   (None, 8, 8, 512)         0         \n",
            "                                                                 \n",
            " conv2d_9 (Conv2D)           (None, 8, 8, 512)         2359808   \n",
            "                                                                 \n",
            " batch_normalization_9 (Batc  (None, 8, 8, 512)        2048      \n",
            " hNormalization)                                                 \n",
            "                                                                 \n",
            " activation_9 (Activation)   (None, 8, 8, 512)         0         \n",
            "                                                                 \n",
            " max_pooling2d_3 (MaxPooling  (None, 4, 4, 512)        0         \n",
            " 2D)                                                             \n",
            "                                                                 \n",
            " conv2d_10 (Conv2D)          (None, 4, 4, 512)         2359808   \n",
            "                                                                 \n",
            " batch_normalization_10 (Bat  (None, 4, 4, 512)        2048      \n",
            " chNormalization)                                                \n",
            "                                                                 \n",
            " activation_10 (Activation)  (None, 4, 4, 512)         0         \n",
            "                                                                 \n",
            " conv2d_11 (Conv2D)          (None, 4, 4, 512)         2359808   \n",
            "                                                                 \n",
            " batch_normalization_11 (Bat  (None, 4, 4, 512)        2048      \n",
            " chNormalization)                                                \n",
            "                                                                 \n",
            " activation_11 (Activation)  (None, 4, 4, 512)         0         \n",
            "                                                                 \n",
            " conv2d_12 (Conv2D)          (None, 4, 4, 512)         2359808   \n",
            "                                                                 \n",
            " batch_normalization_12 (Bat  (None, 4, 4, 512)        2048      \n",
            " chNormalization)                                                \n",
            "                                                                 \n",
            " activation_12 (Activation)  (None, 4, 4, 512)         0         \n",
            "                                                                 \n",
            " max_pooling2d_4 (MaxPooling  (None, 2, 2, 512)        0         \n",
            " 2D)                                                             \n",
            "                                                                 \n",
            " up_sampling2d (UpSampling2D  (None, 4, 4, 512)        0         \n",
            " )                                                               \n",
            "                                                                 \n",
            " conv2d_13 (Conv2D)          (None, 4, 4, 512)         2359808   \n",
            "                                                                 \n",
            " batch_normalization_13 (Bat  (None, 4, 4, 512)        2048      \n",
            " chNormalization)                                                \n",
            "                                                                 \n",
            " activation_13 (Activation)  (None, 4, 4, 512)         0         \n",
            "                                                                 \n",
            " conv2d_14 (Conv2D)          (None, 4, 4, 512)         2359808   \n",
            "                                                                 \n",
            " batch_normalization_14 (Bat  (None, 4, 4, 512)        2048      \n",
            " chNormalization)                                                \n",
            "                                                                 \n",
            " activation_14 (Activation)  (None, 4, 4, 512)         0         \n",
            "                                                                 \n",
            " conv2d_15 (Conv2D)          (None, 4, 4, 512)         2359808   \n",
            "                                                                 \n",
            " batch_normalization_15 (Bat  (None, 4, 4, 512)        2048      \n",
            " chNormalization)                                                \n",
            "                                                                 \n",
            " activation_15 (Activation)  (None, 4, 4, 512)         0         \n",
            "                                                                 \n",
            " up_sampling2d_1 (UpSampling  (None, 8, 8, 512)        0         \n",
            " 2D)                                                             \n",
            "                                                                 \n",
            " conv2d_16 (Conv2D)          (None, 8, 8, 512)         2359808   \n",
            "                                                                 \n",
            " batch_normalization_16 (Bat  (None, 8, 8, 512)        2048      \n",
            " chNormalization)                                                \n",
            "                                                                 \n",
            " activation_16 (Activation)  (None, 8, 8, 512)         0         \n",
            "                                                                 \n",
            " conv2d_17 (Conv2D)          (None, 8, 8, 512)         2359808   \n",
            "                                                                 \n",
            " batch_normalization_17 (Bat  (None, 8, 8, 512)        2048      \n",
            " chNormalization)                                                \n",
            "                                                                 \n",
            " activation_17 (Activation)  (None, 8, 8, 512)         0         \n",
            "                                                                 \n",
            " conv2d_18 (Conv2D)          (None, 8, 8, 256)         1179904   \n",
            "                                                                 \n",
            " batch_normalization_18 (Bat  (None, 8, 8, 256)        1024      \n",
            " chNormalization)                                                \n",
            "                                                                 \n",
            " activation_18 (Activation)  (None, 8, 8, 256)         0         \n",
            "                                                                 \n",
            " up_sampling2d_2 (UpSampling  (None, 16, 16, 256)      0         \n",
            " 2D)                                                             \n",
            "                                                                 \n",
            " conv2d_19 (Conv2D)          (None, 16, 16, 256)       590080    \n",
            "                                                                 \n",
            " batch_normalization_19 (Bat  (None, 16, 16, 256)      1024      \n",
            " chNormalization)                                                \n",
            "                                                                 \n",
            " activation_19 (Activation)  (None, 16, 16, 256)       0         \n",
            "                                                                 \n",
            " conv2d_20 (Conv2D)          (None, 16, 16, 256)       590080    \n",
            "                                                                 \n",
            " batch_normalization_20 (Bat  (None, 16, 16, 256)      1024      \n",
            " chNormalization)                                                \n",
            "                                                                 \n",
            " activation_20 (Activation)  (None, 16, 16, 256)       0         \n",
            "                                                                 \n",
            " conv2d_21 (Conv2D)          (None, 16, 16, 128)       295040    \n",
            "                                                                 \n",
            " batch_normalization_21 (Bat  (None, 16, 16, 128)      512       \n",
            " chNormalization)                                                \n",
            "                                                                 \n",
            " activation_21 (Activation)  (None, 16, 16, 128)       0         \n",
            "                                                                 \n",
            " up_sampling2d_3 (UpSampling  (None, 32, 32, 128)      0         \n",
            " 2D)                                                             \n",
            "                                                                 \n",
            " conv2d_22 (Conv2D)          (None, 32, 32, 128)       147584    \n",
            "                                                                 \n",
            " batch_normalization_22 (Bat  (None, 32, 32, 128)      512       \n",
            " chNormalization)                                                \n",
            "                                                                 \n",
            " activation_22 (Activation)  (None, 32, 32, 128)       0         \n",
            "                                                                 \n",
            " conv2d_23 (Conv2D)          (None, 32, 32, 64)        73792     \n",
            "                                                                 \n",
            " batch_normalization_23 (Bat  (None, 32, 32, 64)       256       \n",
            " chNormalization)                                                \n",
            "                                                                 \n",
            " activation_23 (Activation)  (None, 32, 32, 64)        0         \n",
            "                                                                 \n",
            " up_sampling2d_4 (UpSampling  (None, 64, 64, 64)       0         \n",
            " 2D)                                                             \n",
            "                                                                 \n",
            " conv2d_24 (Conv2D)          (None, 64, 64, 64)        36928     \n",
            "                                                                 \n",
            " batch_normalization_24 (Bat  (None, 64, 64, 64)       256       \n",
            " chNormalization)                                                \n",
            "                                                                 \n",
            " activation_24 (Activation)  (None, 64, 64, 64)        0         \n",
            "                                                                 \n",
            " conv2d_25 (Conv2D)          (None, 64, 64, 2)         130       \n",
            "                                                                 \n",
            " batch_normalization_25 (Bat  (None, 64, 64, 2)        8         \n",
            " chNormalization)                                                \n",
            "                                                                 \n",
            " reshape (Reshape)           (None, 2, 4096)           0         \n",
            "                                                                 \n",
            " permute (Permute)           (None, 4096, 2)           0         \n",
            "                                                                 \n",
            " activation_25 (Activation)  (None, 4096, 2)           0         \n",
            "                                                                 \n",
            "=================================================================\n",
            "Total params: 29,459,018\n",
            "Trainable params: 29,443,142\n",
            "Non-trainable params: 15,876\n",
            "_________________________________________________________________\n"
          ]
        }
      ]
    },
    {
      "metadata": {
        "trusted": false,
        "collapsed": true,
        "_uuid": "3581db693dcaca1ceba2e9f23f5945e22287804f",
        "colab": {
          "base_uri": "https://localhost:8080/"
        },
        "id": "USoAJpX16823",
        "outputId": "beb1af7c-03cc-4561-eb18-329781bac302"
      },
      "cell_type": "code",
      "source": [
        "optimizer = SGD(lr=0.001, momentum=0.9, decay=0.0005, nesterov=False)\n",
        "model.compile(loss=\"categorical_crossentropy\", optimizer=optimizer, metrics=['accuracy'])"
      ],
      "execution_count": 12,
      "outputs": [
        {
          "output_type": "stream",
          "name": "stderr",
          "text": [
            "/usr/local/lib/python3.7/dist-packages/keras/optimizer_v2/gradient_descent.py:102: UserWarning: The `lr` argument is deprecated, use `learning_rate` instead.\n",
            "  super(SGD, self).__init__(name, **kwargs)\n"
          ]
        }
      ]
    },
    {
      "metadata": {
        "trusted": false,
        "_uuid": "16003200d0f353bf83e56ec8efbeb2bf13da6b58",
        "colab": {
          "base_uri": "https://localhost:8080/"
        },
        "id": "YI2_L8NT6823",
        "outputId": "b90e6cf2-5a2f-4fa2-cf74-513c2cdd6c17"
      },
      "cell_type": "code",
      "source": [
        "callbacks=[\n",
        "    EarlyStopping(patience=20, monitor='val_loss', verbose=1),\n",
        "    ReduceLROnPlateau(patience=5, monitor='val_loss', verbose=1),\n",
        "    ModelCheckpoint('model.h5', save_best_only=True)\n",
        "]\n",
        "history=model.fit(np.asarray(imgarray), np.asarray(maskarray), epochs=200,\n",
        "                  validation_split=0.2, callbacks=callbacks)"
      ],
      "execution_count": 13,
      "outputs": [
        {
          "output_type": "stream",
          "name": "stdout",
          "text": [
            "Epoch 1/200\n",
            "14/14 [==============================] - 21s 527ms/step - loss: 0.6773 - accuracy: 0.6411 - val_loss: 0.6930 - val_accuracy: 0.6156 - lr: 0.0010\n",
            "Epoch 2/200\n",
            "14/14 [==============================] - 5s 350ms/step - loss: 0.4218 - accuracy: 0.8583 - val_loss: 0.6918 - val_accuracy: 0.7871 - lr: 0.0010\n",
            "Epoch 3/200\n",
            "14/14 [==============================] - 5s 350ms/step - loss: 0.3770 - accuracy: 0.8873 - val_loss: 0.6885 - val_accuracy: 0.8521 - lr: 0.0010\n",
            "Epoch 4/200\n",
            "14/14 [==============================] - 5s 348ms/step - loss: 0.3597 - accuracy: 0.8938 - val_loss: 0.6818 - val_accuracy: 0.8739 - lr: 0.0010\n",
            "Epoch 5/200\n",
            "14/14 [==============================] - 5s 344ms/step - loss: 0.3513 - accuracy: 0.8956 - val_loss: 0.6717 - val_accuracy: 0.8828 - lr: 0.0010\n",
            "Epoch 6/200\n",
            "14/14 [==============================] - 5s 346ms/step - loss: 0.3447 - accuracy: 0.8965 - val_loss: 0.6581 - val_accuracy: 0.8903 - lr: 0.0010\n",
            "Epoch 7/200\n",
            "14/14 [==============================] - 5s 347ms/step - loss: 0.3407 - accuracy: 0.8972 - val_loss: 0.6398 - val_accuracy: 0.8978 - lr: 0.0010\n",
            "Epoch 8/200\n",
            "14/14 [==============================] - 5s 349ms/step - loss: 0.3370 - accuracy: 0.8974 - val_loss: 0.6172 - val_accuracy: 0.9025 - lr: 0.0010\n",
            "Epoch 9/200\n",
            "14/14 [==============================] - 5s 350ms/step - loss: 0.3335 - accuracy: 0.8978 - val_loss: 0.5906 - val_accuracy: 0.9057 - lr: 0.0010\n",
            "Epoch 10/200\n",
            "14/14 [==============================] - 5s 344ms/step - loss: 0.3313 - accuracy: 0.8979 - val_loss: 0.5604 - val_accuracy: 0.9084 - lr: 0.0010\n",
            "Epoch 11/200\n",
            "14/14 [==============================] - 5s 348ms/step - loss: 0.3294 - accuracy: 0.8980 - val_loss: 0.5280 - val_accuracy: 0.9113 - lr: 0.0010\n",
            "Epoch 12/200\n",
            "14/14 [==============================] - 5s 348ms/step - loss: 0.3274 - accuracy: 0.8980 - val_loss: 0.4956 - val_accuracy: 0.9140 - lr: 0.0010\n",
            "Epoch 13/200\n",
            "14/14 [==============================] - 5s 345ms/step - loss: 0.3245 - accuracy: 0.8986 - val_loss: 0.4612 - val_accuracy: 0.9154 - lr: 0.0010\n",
            "Epoch 14/200\n",
            "14/14 [==============================] - 5s 347ms/step - loss: 0.3223 - accuracy: 0.8988 - val_loss: 0.4315 - val_accuracy: 0.9160 - lr: 0.0010\n",
            "Epoch 15/200\n",
            "14/14 [==============================] - 5s 342ms/step - loss: 0.3204 - accuracy: 0.8990 - val_loss: 0.4061 - val_accuracy: 0.9162 - lr: 0.0010\n",
            "Epoch 16/200\n",
            "14/14 [==============================] - 5s 346ms/step - loss: 0.3181 - accuracy: 0.8990 - val_loss: 0.3852 - val_accuracy: 0.9161 - lr: 0.0010\n",
            "Epoch 17/200\n",
            "14/14 [==============================] - 5s 387ms/step - loss: 0.3166 - accuracy: 0.8993 - val_loss: 0.3652 - val_accuracy: 0.9162 - lr: 0.0010\n",
            "Epoch 18/200\n",
            "14/14 [==============================] - 5s 384ms/step - loss: 0.3156 - accuracy: 0.8993 - val_loss: 0.3493 - val_accuracy: 0.9162 - lr: 0.0010\n",
            "Epoch 19/200\n",
            "14/14 [==============================] - 5s 343ms/step - loss: 0.3144 - accuracy: 0.8996 - val_loss: 0.3365 - val_accuracy: 0.9162 - lr: 0.0010\n",
            "Epoch 20/200\n",
            "14/14 [==============================] - 5s 345ms/step - loss: 0.3126 - accuracy: 0.8997 - val_loss: 0.3274 - val_accuracy: 0.9162 - lr: 0.0010\n",
            "Epoch 21/200\n",
            "14/14 [==============================] - 5s 351ms/step - loss: 0.3104 - accuracy: 0.8998 - val_loss: 0.3197 - val_accuracy: 0.9162 - lr: 0.0010\n",
            "Epoch 22/200\n",
            "14/14 [==============================] - 5s 349ms/step - loss: 0.3104 - accuracy: 0.9000 - val_loss: 0.3126 - val_accuracy: 0.9162 - lr: 0.0010\n",
            "Epoch 23/200\n",
            "14/14 [==============================] - 5s 349ms/step - loss: 0.3082 - accuracy: 0.9002 - val_loss: 0.3077 - val_accuracy: 0.9162 - lr: 0.0010\n",
            "Epoch 24/200\n",
            "14/14 [==============================] - 5s 350ms/step - loss: 0.3063 - accuracy: 0.9003 - val_loss: 0.3030 - val_accuracy: 0.9162 - lr: 0.0010\n",
            "Epoch 25/200\n",
            "14/14 [==============================] - 5s 350ms/step - loss: 0.3059 - accuracy: 0.9005 - val_loss: 0.2999 - val_accuracy: 0.9163 - lr: 0.0010\n",
            "Epoch 26/200\n",
            "14/14 [==============================] - 5s 349ms/step - loss: 0.3035 - accuracy: 0.9007 - val_loss: 0.2970 - val_accuracy: 0.9163 - lr: 0.0010\n",
            "Epoch 27/200\n",
            "14/14 [==============================] - 5s 350ms/step - loss: 0.3029 - accuracy: 0.9006 - val_loss: 0.2932 - val_accuracy: 0.9163 - lr: 0.0010\n",
            "Epoch 28/200\n",
            "14/14 [==============================] - 5s 370ms/step - loss: 0.2995 - accuracy: 0.9013 - val_loss: 0.2923 - val_accuracy: 0.9162 - lr: 0.0010\n",
            "Epoch 29/200\n",
            "14/14 [==============================] - 5s 353ms/step - loss: 0.2991 - accuracy: 0.9012 - val_loss: 0.2901 - val_accuracy: 0.9163 - lr: 0.0010\n",
            "Epoch 30/200\n",
            "14/14 [==============================] - 5s 352ms/step - loss: 0.2979 - accuracy: 0.9015 - val_loss: 0.2885 - val_accuracy: 0.9164 - lr: 0.0010\n",
            "Epoch 31/200\n",
            "14/14 [==============================] - 5s 347ms/step - loss: 0.2968 - accuracy: 0.9010 - val_loss: 0.2878 - val_accuracy: 0.9162 - lr: 0.0010\n",
            "Epoch 32/200\n",
            "14/14 [==============================] - 5s 348ms/step - loss: 0.2961 - accuracy: 0.9019 - val_loss: 0.2859 - val_accuracy: 0.9162 - lr: 0.0010\n",
            "Epoch 33/200\n",
            "14/14 [==============================] - 5s 346ms/step - loss: 0.2937 - accuracy: 0.9019 - val_loss: 0.2848 - val_accuracy: 0.9162 - lr: 0.0010\n",
            "Epoch 34/200\n",
            "14/14 [==============================] - 5s 379ms/step - loss: 0.2936 - accuracy: 0.9020 - val_loss: 0.2835 - val_accuracy: 0.9161 - lr: 0.0010\n",
            "Epoch 35/200\n",
            "14/14 [==============================] - 3s 245ms/step - loss: 0.2917 - accuracy: 0.9021 - val_loss: 0.2836 - val_accuracy: 0.9163 - lr: 0.0010\n",
            "Epoch 36/200\n",
            "14/14 [==============================] - 5s 348ms/step - loss: 0.2916 - accuracy: 0.9022 - val_loss: 0.2818 - val_accuracy: 0.9162 - lr: 0.0010\n",
            "Epoch 37/200\n",
            "14/14 [==============================] - 5s 346ms/step - loss: 0.2903 - accuracy: 0.9022 - val_loss: 0.2802 - val_accuracy: 0.9166 - lr: 0.0010\n",
            "Epoch 38/200\n",
            "14/14 [==============================] - 5s 347ms/step - loss: 0.2909 - accuracy: 0.9022 - val_loss: 0.2789 - val_accuracy: 0.9164 - lr: 0.0010\n",
            "Epoch 39/200\n",
            "14/14 [==============================] - 5s 345ms/step - loss: 0.2876 - accuracy: 0.9028 - val_loss: 0.2778 - val_accuracy: 0.9162 - lr: 0.0010\n",
            "Epoch 40/200\n",
            "14/14 [==============================] - 5s 343ms/step - loss: 0.2867 - accuracy: 0.9028 - val_loss: 0.2772 - val_accuracy: 0.9162 - lr: 0.0010\n",
            "Epoch 41/200\n",
            "14/14 [==============================] - 3s 245ms/step - loss: 0.2850 - accuracy: 0.9031 - val_loss: 0.2777 - val_accuracy: 0.9161 - lr: 0.0010\n",
            "Epoch 42/200\n",
            "14/14 [==============================] - 3s 244ms/step - loss: 0.2832 - accuracy: 0.9033 - val_loss: 0.2785 - val_accuracy: 0.9160 - lr: 0.0010\n",
            "Epoch 43/200\n",
            "14/14 [==============================] - 5s 354ms/step - loss: 0.2846 - accuracy: 0.9025 - val_loss: 0.2772 - val_accuracy: 0.9164 - lr: 0.0010\n",
            "Epoch 44/200\n",
            "14/14 [==============================] - 5s 349ms/step - loss: 0.2830 - accuracy: 0.9032 - val_loss: 0.2763 - val_accuracy: 0.9165 - lr: 0.0010\n",
            "Epoch 45/200\n",
            "14/14 [==============================] - 5s 351ms/step - loss: 0.2805 - accuracy: 0.9039 - val_loss: 0.2750 - val_accuracy: 0.9164 - lr: 0.0010\n",
            "Epoch 46/200\n",
            "14/14 [==============================] - 3s 244ms/step - loss: 0.2811 - accuracy: 0.9030 - val_loss: 0.2751 - val_accuracy: 0.9164 - lr: 0.0010\n",
            "Epoch 47/200\n",
            "14/14 [==============================] - 5s 344ms/step - loss: 0.2799 - accuracy: 0.9035 - val_loss: 0.2739 - val_accuracy: 0.9168 - lr: 0.0010\n",
            "Epoch 48/200\n",
            "14/14 [==============================] - 5s 349ms/step - loss: 0.2771 - accuracy: 0.9041 - val_loss: 0.2726 - val_accuracy: 0.9166 - lr: 0.0010\n",
            "Epoch 49/200\n",
            "14/14 [==============================] - 5s 345ms/step - loss: 0.2780 - accuracy: 0.9040 - val_loss: 0.2723 - val_accuracy: 0.9163 - lr: 0.0010\n",
            "Epoch 50/200\n",
            "14/14 [==============================] - 5s 347ms/step - loss: 0.2751 - accuracy: 0.9043 - val_loss: 0.2722 - val_accuracy: 0.9161 - lr: 0.0010\n",
            "Epoch 51/200\n",
            "14/14 [==============================] - 3s 246ms/step - loss: 0.2758 - accuracy: 0.9044 - val_loss: 0.2725 - val_accuracy: 0.9165 - lr: 0.0010\n",
            "Epoch 52/200\n",
            "14/14 [==============================] - 3s 246ms/step - loss: 0.2746 - accuracy: 0.9039 - val_loss: 0.2726 - val_accuracy: 0.9165 - lr: 0.0010\n",
            "Epoch 53/200\n",
            "14/14 [==============================] - 3s 248ms/step - loss: 0.2739 - accuracy: 0.9045 - val_loss: 0.2737 - val_accuracy: 0.9160 - lr: 0.0010\n",
            "Epoch 54/200\n",
            "14/14 [==============================] - 7s 489ms/step - loss: 0.2724 - accuracy: 0.9044 - val_loss: 0.2719 - val_accuracy: 0.9162 - lr: 0.0010\n",
            "Epoch 55/200\n",
            "14/14 [==============================] - 5s 352ms/step - loss: 0.2705 - accuracy: 0.9047 - val_loss: 0.2701 - val_accuracy: 0.9163 - lr: 0.0010\n",
            "Epoch 56/200\n",
            "14/14 [==============================] - 5s 345ms/step - loss: 0.2690 - accuracy: 0.9053 - val_loss: 0.2694 - val_accuracy: 0.9167 - lr: 0.0010\n",
            "Epoch 57/200\n",
            "14/14 [==============================] - 5s 353ms/step - loss: 0.2684 - accuracy: 0.9054 - val_loss: 0.2689 - val_accuracy: 0.9167 - lr: 0.0010\n",
            "Epoch 58/200\n",
            "14/14 [==============================] - 3s 245ms/step - loss: 0.2688 - accuracy: 0.9053 - val_loss: 0.2706 - val_accuracy: 0.9163 - lr: 0.0010\n",
            "Epoch 59/200\n",
            "14/14 [==============================] - 3s 245ms/step - loss: 0.2675 - accuracy: 0.9055 - val_loss: 0.2697 - val_accuracy: 0.9162 - lr: 0.0010\n",
            "Epoch 60/200\n",
            "14/14 [==============================] - 3s 248ms/step - loss: 0.2639 - accuracy: 0.9060 - val_loss: 0.2694 - val_accuracy: 0.9164 - lr: 0.0010\n",
            "Epoch 61/200\n",
            "14/14 [==============================] - 5s 350ms/step - loss: 0.2656 - accuracy: 0.9053 - val_loss: 0.2688 - val_accuracy: 0.9164 - lr: 0.0010\n",
            "Epoch 62/200\n",
            "14/14 [==============================] - 5s 350ms/step - loss: 0.2627 - accuracy: 0.9063 - val_loss: 0.2680 - val_accuracy: 0.9166 - lr: 0.0010\n",
            "Epoch 63/200\n",
            "14/14 [==============================] - 5s 348ms/step - loss: 0.2630 - accuracy: 0.9060 - val_loss: 0.2668 - val_accuracy: 0.9166 - lr: 0.0010\n",
            "Epoch 64/200\n",
            "14/14 [==============================] - 3s 244ms/step - loss: 0.2600 - accuracy: 0.9069 - val_loss: 0.2670 - val_accuracy: 0.9163 - lr: 0.0010\n",
            "Epoch 65/200\n",
            "14/14 [==============================] - 3s 246ms/step - loss: 0.2609 - accuracy: 0.9065 - val_loss: 0.2674 - val_accuracy: 0.9163 - lr: 0.0010\n",
            "Epoch 66/200\n",
            "14/14 [==============================] - 3s 248ms/step - loss: 0.2579 - accuracy: 0.9072 - val_loss: 0.2673 - val_accuracy: 0.9164 - lr: 0.0010\n",
            "Epoch 67/200\n",
            "14/14 [==============================] - 4s 252ms/step - loss: 0.2577 - accuracy: 0.9071 - val_loss: 0.2677 - val_accuracy: 0.9160 - lr: 0.0010\n",
            "Epoch 68/200\n",
            "14/14 [==============================] - 6s 467ms/step - loss: 0.2588 - accuracy: 0.9073 - val_loss: 0.2665 - val_accuracy: 0.9164 - lr: 0.0010\n",
            "Epoch 69/200\n",
            "14/14 [==============================] - 3s 247ms/step - loss: 0.2561 - accuracy: 0.9076 - val_loss: 0.2666 - val_accuracy: 0.9159 - lr: 0.0010\n",
            "Epoch 70/200\n",
            "14/14 [==============================] - 5s 349ms/step - loss: 0.2558 - accuracy: 0.9075 - val_loss: 0.2665 - val_accuracy: 0.9158 - lr: 0.0010\n",
            "Epoch 71/200\n",
            "14/14 [==============================] - 5s 350ms/step - loss: 0.2569 - accuracy: 0.9068 - val_loss: 0.2659 - val_accuracy: 0.9165 - lr: 0.0010\n",
            "Epoch 72/200\n",
            "14/14 [==============================] - 5s 345ms/step - loss: 0.2538 - accuracy: 0.9073 - val_loss: 0.2657 - val_accuracy: 0.9164 - lr: 0.0010\n",
            "Epoch 73/200\n",
            "14/14 [==============================] - 5s 350ms/step - loss: 0.2534 - accuracy: 0.9078 - val_loss: 0.2656 - val_accuracy: 0.9163 - lr: 0.0010\n",
            "Epoch 74/200\n",
            "14/14 [==============================] - 3s 245ms/step - loss: 0.2560 - accuracy: 0.9069 - val_loss: 0.2659 - val_accuracy: 0.9162 - lr: 0.0010\n",
            "Epoch 75/200\n",
            "14/14 [==============================] - 5s 357ms/step - loss: 0.2536 - accuracy: 0.9079 - val_loss: 0.2655 - val_accuracy: 0.9161 - lr: 0.0010\n",
            "Epoch 76/200\n",
            "14/14 [==============================] - 5s 351ms/step - loss: 0.2500 - accuracy: 0.9084 - val_loss: 0.2655 - val_accuracy: 0.9162 - lr: 0.0010\n",
            "Epoch 77/200\n",
            "14/14 [==============================] - 5s 352ms/step - loss: 0.2510 - accuracy: 0.9084 - val_loss: 0.2634 - val_accuracy: 0.9162 - lr: 0.0010\n",
            "Epoch 78/200\n",
            "14/14 [==============================] - 5s 351ms/step - loss: 0.2514 - accuracy: 0.9082 - val_loss: 0.2634 - val_accuracy: 0.9170 - lr: 0.0010\n",
            "Epoch 79/200\n",
            "14/14 [==============================] - 5s 353ms/step - loss: 0.2475 - accuracy: 0.9092 - val_loss: 0.2629 - val_accuracy: 0.9168 - lr: 0.0010\n",
            "Epoch 80/200\n",
            "14/14 [==============================] - 3s 246ms/step - loss: 0.2486 - accuracy: 0.9084 - val_loss: 0.2633 - val_accuracy: 0.9169 - lr: 0.0010\n",
            "Epoch 81/200\n",
            "14/14 [==============================] - 3s 246ms/step - loss: 0.2465 - accuracy: 0.9094 - val_loss: 0.2635 - val_accuracy: 0.9164 - lr: 0.0010\n",
            "Epoch 82/200\n",
            "14/14 [==============================] - 5s 358ms/step - loss: 0.2468 - accuracy: 0.9089 - val_loss: 0.2622 - val_accuracy: 0.9170 - lr: 0.0010\n",
            "Epoch 83/200\n",
            "14/14 [==============================] - 3s 246ms/step - loss: 0.2459 - accuracy: 0.9094 - val_loss: 0.2630 - val_accuracy: 0.9163 - lr: 0.0010\n",
            "Epoch 84/200\n",
            "14/14 [==============================] - 3s 245ms/step - loss: 0.2453 - accuracy: 0.9091 - val_loss: 0.2645 - val_accuracy: 0.9162 - lr: 0.0010\n",
            "Epoch 85/200\n",
            "14/14 [==============================] - 3s 249ms/step - loss: 0.2483 - accuracy: 0.9089 - val_loss: 0.2645 - val_accuracy: 0.9166 - lr: 0.0010\n",
            "Epoch 86/200\n",
            "14/14 [==============================] - 3s 247ms/step - loss: 0.2463 - accuracy: 0.9092 - val_loss: 0.2633 - val_accuracy: 0.9170 - lr: 0.0010\n",
            "Epoch 87/200\n",
            "14/14 [==============================] - ETA: 0s - loss: 0.2460 - accuracy: 0.9091\n",
            "Epoch 00087: ReduceLROnPlateau reducing learning rate to 0.00010000000474974513.\n",
            "14/14 [==============================] - 3s 249ms/step - loss: 0.2460 - accuracy: 0.9091 - val_loss: 0.2625 - val_accuracy: 0.9166 - lr: 0.0010\n",
            "Epoch 88/200\n",
            "14/14 [==============================] - 6s 477ms/step - loss: 0.2438 - accuracy: 0.9097 - val_loss: 0.2618 - val_accuracy: 0.9168 - lr: 1.0000e-04\n",
            "Epoch 89/200\n",
            "14/14 [==============================] - 5s 380ms/step - loss: 0.2452 - accuracy: 0.9094 - val_loss: 0.2615 - val_accuracy: 0.9169 - lr: 1.0000e-04\n",
            "Epoch 90/200\n",
            "14/14 [==============================] - 3s 244ms/step - loss: 0.2425 - accuracy: 0.9096 - val_loss: 0.2624 - val_accuracy: 0.9167 - lr: 1.0000e-04\n",
            "Epoch 91/200\n",
            "14/14 [==============================] - 3s 247ms/step - loss: 0.2419 - accuracy: 0.9101 - val_loss: 0.2629 - val_accuracy: 0.9167 - lr: 1.0000e-04\n",
            "Epoch 92/200\n",
            "14/14 [==============================] - 3s 250ms/step - loss: 0.2450 - accuracy: 0.9093 - val_loss: 0.2625 - val_accuracy: 0.9166 - lr: 1.0000e-04\n",
            "Epoch 93/200\n",
            "14/14 [==============================] - 3s 247ms/step - loss: 0.2414 - accuracy: 0.9104 - val_loss: 0.2628 - val_accuracy: 0.9169 - lr: 1.0000e-04\n",
            "Epoch 94/200\n",
            "14/14 [==============================] - ETA: 0s - loss: 0.2453 - accuracy: 0.9086\n",
            "Epoch 00094: ReduceLROnPlateau reducing learning rate to 1.0000000474974514e-05.\n",
            "14/14 [==============================] - 3s 246ms/step - loss: 0.2453 - accuracy: 0.9086 - val_loss: 0.2626 - val_accuracy: 0.9170 - lr: 1.0000e-04\n",
            "Epoch 95/200\n",
            "14/14 [==============================] - 3s 245ms/step - loss: 0.2450 - accuracy: 0.9095 - val_loss: 0.2627 - val_accuracy: 0.9170 - lr: 1.0000e-05\n",
            "Epoch 96/200\n",
            "14/14 [==============================] - 3s 246ms/step - loss: 0.2439 - accuracy: 0.9095 - val_loss: 0.2626 - val_accuracy: 0.9170 - lr: 1.0000e-05\n",
            "Epoch 97/200\n",
            "14/14 [==============================] - 3s 246ms/step - loss: 0.2409 - accuracy: 0.9103 - val_loss: 0.2627 - val_accuracy: 0.9170 - lr: 1.0000e-05\n",
            "Epoch 98/200\n",
            "14/14 [==============================] - 3s 247ms/step - loss: 0.2424 - accuracy: 0.9102 - val_loss: 0.2626 - val_accuracy: 0.9170 - lr: 1.0000e-05\n",
            "Epoch 99/200\n",
            "14/14 [==============================] - ETA: 0s - loss: 0.2436 - accuracy: 0.9094\n",
            "Epoch 00099: ReduceLROnPlateau reducing learning rate to 1.0000000656873453e-06.\n",
            "14/14 [==============================] - 3s 245ms/step - loss: 0.2436 - accuracy: 0.9094 - val_loss: 0.2627 - val_accuracy: 0.9169 - lr: 1.0000e-05\n",
            "Epoch 100/200\n",
            "14/14 [==============================] - 3s 245ms/step - loss: 0.2414 - accuracy: 0.9106 - val_loss: 0.2627 - val_accuracy: 0.9168 - lr: 1.0000e-06\n",
            "Epoch 101/200\n",
            "14/14 [==============================] - 3s 246ms/step - loss: 0.2428 - accuracy: 0.9098 - val_loss: 0.2627 - val_accuracy: 0.9168 - lr: 1.0000e-06\n",
            "Epoch 102/200\n",
            "14/14 [==============================] - 3s 246ms/step - loss: 0.2411 - accuracy: 0.9106 - val_loss: 0.2626 - val_accuracy: 0.9167 - lr: 1.0000e-06\n",
            "Epoch 103/200\n",
            "14/14 [==============================] - 3s 246ms/step - loss: 0.2415 - accuracy: 0.9098 - val_loss: 0.2627 - val_accuracy: 0.9167 - lr: 1.0000e-06\n",
            "Epoch 104/200\n",
            "14/14 [==============================] - ETA: 0s - loss: 0.2397 - accuracy: 0.9110\n",
            "Epoch 00104: ReduceLROnPlateau reducing learning rate to 1.0000001111620805e-07.\n",
            "14/14 [==============================] - 3s 245ms/step - loss: 0.2397 - accuracy: 0.9110 - val_loss: 0.2626 - val_accuracy: 0.9168 - lr: 1.0000e-06\n",
            "Epoch 105/200\n",
            "14/14 [==============================] - 3s 247ms/step - loss: 0.2417 - accuracy: 0.9101 - val_loss: 0.2626 - val_accuracy: 0.9167 - lr: 1.0000e-07\n",
            "Epoch 106/200\n",
            "14/14 [==============================] - 3s 246ms/step - loss: 0.2421 - accuracy: 0.9104 - val_loss: 0.2626 - val_accuracy: 0.9167 - lr: 1.0000e-07\n",
            "Epoch 107/200\n",
            "14/14 [==============================] - 3s 245ms/step - loss: 0.2414 - accuracy: 0.9097 - val_loss: 0.2626 - val_accuracy: 0.9167 - lr: 1.0000e-07\n",
            "Epoch 108/200\n",
            "14/14 [==============================] - 3s 246ms/step - loss: 0.2423 - accuracy: 0.9102 - val_loss: 0.2626 - val_accuracy: 0.9166 - lr: 1.0000e-07\n",
            "Epoch 109/200\n",
            "14/14 [==============================] - ETA: 0s - loss: 0.2422 - accuracy: 0.9103\n",
            "Epoch 00109: ReduceLROnPlateau reducing learning rate to 1.000000082740371e-08.\n",
            "14/14 [==============================] - 3s 245ms/step - loss: 0.2422 - accuracy: 0.9103 - val_loss: 0.2627 - val_accuracy: 0.9167 - lr: 1.0000e-07\n",
            "Epoch 00109: early stopping\n"
          ]
        }
      ]
    },
    {
      "metadata": {
        "trusted": false,
        "_uuid": "1ba16e7eb8165a63da86304a59a7617fe91a0336",
        "colab": {
          "base_uri": "https://localhost:8080/",
          "height": 348
        },
        "id": "gXrf7NmN6824",
        "outputId": "1c2fb7e0-6669-48be-9ca1-990790c76fd6"
      },
      "cell_type": "code",
      "source": [
        "fig, axes = plt.subplots(1, 1, figsize=(7, 5))\n",
        "plt.plot(history.history['accuracy'], label='train accuracy')\n",
        "plt.plot(history.history['val_accuracy'], label='val accuracy')\n",
        "plt.title(label = 'Accuracy', fontsize = 10, color = \"black\")\n",
        "plt.xlabel('Epoch')\n",
        "plt.ylabel('Accuracy')\n",
        "plt.legend()\n",
        "plt.show()\n",
        "fig.savefig('accuracy')"
      ],
      "execution_count": 19,
      "outputs": [
        {
          "output_type": "display_data",
          "data": {
            "image/png": "[encoded data removed]",
            "text/plain": [
              "<Figure size 504x360 with 1 Axes>"
            ]
          },
          "metadata": {
            "needs_background": "light"
          }
        }
      ]
    },
    {
      "cell_type": "code",
      "source": [
        "fig, axes = plt.subplots(1, 1, figsize=(7, 5))\n",
        "plt.plot(history.history['loss'], label='train loss')\n",
        "plt.plot(history.history['val_loss'], label='val loss')\n",
        "plt.title(label = 'Loss', fontsize = 10, color = \"black\")\n",
        "plt.xlabel('Epoch')\n",
        "plt.ylabel('Loss')\n",
        "plt.legend()\n",
        "plt.show()\n",
        "fig.savefig('loss')"
      ],
      "metadata": {
        "colab": {
          "base_uri": "https://localhost:8080/",
          "height": 348
        },
        "id": "PFg2aSiiCZLP",
        "outputId": "86aecd16-4ae2-43bf-9b93-898789fcd90f"
      },
      "execution_count": 20,
      "outputs": [
        {
          "output_type": "display_data",
          "data": {
            "image/png": "[encoded data removed]",
            "text/plain": [
              "<Figure size 504x360 with 1 Axes>"
            ]
          },
          "metadata": {
            "needs_background": "light"
          }
        }
      ]
    },
    {
      "metadata": {
        "trusted": true,
        "collapsed": true,
        "_uuid": "9e25ae247e8257c64ceafddba72601374dead8cc",
        "id": "Z1G2S2NV6824"
      },
      "cell_type": "code",
      "source": [
        "predict_result = model.predict(np.asarray(imgarray))\n",
        "predict_mask = predict_result.reshape((len(predict_result),IMG_ROW,IMG_COL,2))\n",
        "maskarray = np.asarray(maskarray).reshape((len(maskarray),IMG_ROW,IMG_COL,2))"
      ],
      "execution_count": 21,
      "outputs": []
    },
    {
      "metadata": {
        "trusted": true,
        "collapsed": true,
        "_uuid": "e2bedead1d3bf1c83486a9e2594a592678c17c3b",
        "colab": {
          "base_uri": "https://localhost:8080/",
          "height": 979
        },
        "id": "9hHpf8z46825",
        "outputId": "5ce2b6dc-de48-430a-8ab7-2b3703a73df7"
      },
      "cell_type": "code",
      "source": [
        "for i in range(6):\n",
        "    rnd_id = random.randint(0,len(imgarray)-1)\n",
        "    f,ax = plt.subplots(1,3,figsize=(8,2))\n",
        "    axes = ax.flatten()\n",
        "    j=0\n",
        "    for ax in axes:\n",
        "        if(j==0):\n",
        "            ax.imshow(imgarray[rnd_id])\n",
        "        elif(j==1):\n",
        "            ax.imshow(np.argmax(maskarray[rnd_id],axis=-1))\n",
        "        else:\n",
        "            ax.imshow(np.argmax(predict_mask[rnd_id],axis=-1))\n",
        "        j+=1"
      ],
      "execution_count": 24,
      "outputs": [
        {
          "output_type": "stream",
          "name": "stderr",
          "text": [
            "Clipping input data to the valid range for imshow with RGB data ([0..1] for floats or [0..255] for integers).\n",
            "Clipping input data to the valid range for imshow with RGB data ([0..1] for floats or [0..255] for integers).\n",
            "Clipping input data to the valid range for imshow with RGB data ([0..1] for floats or [0..255] for integers).\n",
            "Clipping input data to the valid range for imshow with RGB data ([0..1] for floats or [0..255] for integers).\n",
            "Clipping input data to the valid range for imshow with RGB data ([0..1] for floats or [0..255] for integers).\n",
            "Clipping input data to the valid range for imshow with RGB data ([0..1] for floats or [0..255] for integers).\n"
          ]
        },
        {
          "output_type": "display_data",
          "data": {
            "image/png": "[encoded data removed]",
            "text/plain": [
              "<Figure size 576x144 with 3 Axes>"
            ]
          },
          "metadata": {
            "needs_background": "light"
          }
        },
        {
          "output_type": "display_data",
          "data": {
            "image/png": "[encoded data removed]",
            "text/plain": [
              "<Figure size 576x144 with 3 Axes>"
            ]
          },
          "metadata": {
            "needs_background": "light"
          }
        },
        {
          "output_type": "display_data",
          "data": {
            "image/png": "[encoded data removed]",
            "text/plain": [
              "<Figure size 576x144 with 3 Axes>"
            ]
          },
          "metadata": {
            "needs_background": "light"
          }
        },
        {
          "output_type": "display_data",
          "data": {
            "image/png": "[encoded data removed]",
            "text/plain": [
              "<Figure size 576x144 with 3 Axes>"
            ]
          },
          "metadata": {
            "needs_background": "light"
          }
        },
        {
          "output_type": "display_data",
          "data": {
            "image/png": "[encoded data removed]",
            "text/plain": [
              "<Figure size 576x144 with 3 Axes>"
            ]
          },
          "metadata": {
            "needs_background": "light"
          }
        },
        {
          "output_type": "display_data",
          "data": {
            "image/png": "[encoded data removed]",
            "text/plain": [
              "<Figure size 576x144 with 3 Axes>"
            ]
          },
          "metadata": {
            "needs_background": "light"
          }
        }
      ]
    },
    {
      "cell_type": "code",
      "source": [
        ""
      ],
      "metadata": {
        "id": "I_gsQNY7Av8m"
      },
      "execution_count": null,
      "outputs": []
    }
  ],
  "metadata": {
    "kernelspec": {
      "display_name": "Python 3",
      "language": "python",
      "name": "python3"
    },
    "language_info": {
      "name": "python",
      "version": "3.6.4",
      "mimetype": "text/x-python",
      "codemirror_mode": {
        "name": "ipython",
        "version": 3
      },
      "pygments_lexer": "ipython3",
      "nbconvert_exporter": "python",
      "file_extension": ".py"
    },
    "colab": {
      "name": "segnet.ipynb",
      "provenance": [],
      "collapsed_sections": []
    },
    "accelerator": "GPU"
  },
  "nbformat": 4,
  "nbformat_minor": 0
}